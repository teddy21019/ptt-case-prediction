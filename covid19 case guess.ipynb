{
 "cells": [
  {
   "cell_type": "code",
   "execution_count": null,
   "metadata": {},
   "outputs": [],
   "source": [
    "#coding:utf-8\n",
    "#GET\n",
    "\n",
    "#Render Website (Javascript) using webdriver\n",
    "from selenium import webdriver\n",
    "from selenium.webdriver.chrome.options import Options\n",
    "from selenium.webdriver.common.by import By\n",
    "\n",
    "\n",
    "# chrome_options = Options() # 啟動無頭模式\n",
    "# chrome_options.add_argument('--headless')  #規避google bug\n",
    "# chrome_options.add_argument('--disable-gpu')\n",
    "\n",
    "#Element Selector\n",
    "from bs4 import BeautifulSoup as bs\n",
    "\n",
    "# regex selection\n",
    "import re\n",
    "\n",
    "# plot\n",
    "import matplotlib.pyplot as plt\n",
    "from scipy.stats import poisson\n",
    "\n",
    "import numpy as np\n",
    "\n",
    "# file system\n",
    "from os import path"
   ]
  },
  {
   "cell_type": "code",
   "execution_count": null,
   "metadata": {},
   "outputs": [],
   "source": [
    "url = 'https://www.ptt.cc/bbs/gossiping/M.1621111081.A.034.html?fbclid=IwAR1TAgtxrpFUAQ_V7GPe1ZQgBbsOnsPs3uVYMy4-j5DPEi-eRgHbUWQLOeU'\n",
    "\n",
    "# check web driver\n",
    "if not path.exists(\"./chromedriver\"):\n",
    "    print(\"Chrome driver not installed.\\nInstall it and put the extracted file in the same folder this python file is in.\\nhttps://chromedriver.chromium.org/\")\n",
    "    exit()\n",
    "\n",
    "# connect\n",
    "driver = webdriver.Chrome(\"./chromedriver\")\n",
    "driver.get(url)\n",
    "\n",
    "# I am 18 years old\n",
    "driver.find_element(By.CSS_SELECTOR, \"button[name='yes']\").click()\n",
    "\n",
    "# Extract page source code and turn into soup object for simple query\n",
    "pageSourceCode = driver.page_source\n",
    "soup = bs(pageSourceCode, \"html.parser\")\n",
    "\n",
    "# close browser\n",
    "driver.close()"
   ]
  },
  {
   "cell_type": "code",
   "execution_count": null,
   "metadata": {},
   "outputs": [],
   "source": [
    "# Select those posted before 12:00PM \n",
    "comments_element = soup.select('.push .push-content')[:-126] # comment element\n",
    "comments = [c.get_text() for c in comments_element] # comment text \n",
    "\n",
    "# Extract numbers from comments\n",
    "guesses = []\n",
    "for c in comments:\n",
    "    num=0\n",
    "    reg = r'\\d+' # rule of extraction : \\d=digital number, +=continual\n",
    "    nums = [int(n) for n in re.findall(reg, c)]\n",
    "    if len(nums) ==0:\n",
    "        continue\n",
    "    num = max(nums) # choose the largest number appeared in each comment\n",
    "    guesses.append(num)\n",
    "    \n",
    "guesses = np.array(guesses)"
   ]
  },
  {
   "cell_type": "code",
   "execution_count": null,
   "metadata": {},
   "outputs": [],
   "source": [
    "# manually rule out those > 5000\n",
    "not_outlier = guesses < 5000\n",
    "guesses = guesses[not_outlier]\n",
    "max(guesses)"
   ]
  },
  {
   "cell_type": "code",
   "execution_count": null,
   "metadata": {},
   "outputs": [],
   "source": [
    "n_ = len(guesses)\n",
    "max_ = np.max(guesses)\n",
    "min_ = np.min(guesses)\n",
    "mean_ = np.mean(guesses)\n",
    "std_ = np.std(guesses)\n",
    "\n",
    "print(\"已移除5000以上數據\")\n",
    "print(f'總數：{n_}')\n",
    "print(f'最大值：{max_}')\n",
    "print(f'最小值：{min_}')\n",
    "print(f'平均值：{mean_}')\n",
    "print(f'標準差：{std_}')"
   ]
  },
  {
   "cell_type": "code",
   "execution_count": null,
   "metadata": {},
   "outputs": [],
   "source": [
    "plt.boxplot(guesses)\n",
    "plt.show()\n",
    "plt.hist(guesses, bins=30, range=(0,2000))\n",
    "plt.show()\n"
   ]
  },
  {
   "cell_type": "code",
   "execution_count": null,
   "metadata": {},
   "outputs": [],
   "source": []
  },
  {
   "cell_type": "code",
   "execution_count": null,
   "metadata": {},
   "outputs": [],
   "source": []
  },
  {
   "cell_type": "code",
   "execution_count": null,
   "metadata": {},
   "outputs": [],
   "source": []
  },
  {
   "cell_type": "code",
   "execution_count": null,
   "metadata": {},
   "outputs": [],
   "source": []
  },
  {
   "cell_type": "code",
   "execution_count": null,
   "metadata": {},
   "outputs": [],
   "source": []
  },
  {
   "cell_type": "code",
   "execution_count": null,
   "metadata": {},
   "outputs": [],
   "source": []
  }
 ],
 "metadata": {
  "kernelspec": {
   "display_name": "Python 3",
   "language": "python",
   "name": "python3"
  },
  "language_info": {
   "codemirror_mode": {
    "name": "ipython",
    "version": 3
   },
   "file_extension": ".py",
   "mimetype": "text/x-python",
   "name": "python",
   "nbconvert_exporter": "python",
   "pygments_lexer": "ipython3",
   "version": "3.8.3"
  }
 },
 "nbformat": 4,
 "nbformat_minor": 4
}
